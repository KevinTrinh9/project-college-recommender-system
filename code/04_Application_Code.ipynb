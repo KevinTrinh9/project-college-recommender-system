{
 "cells": [
  {
   "cell_type": "markdown",
   "id": "83acee08-1e0b-4447-a0c3-77509af447aa",
   "metadata": {},
   "source": [
    "# Capstone Project - College Recommender System"
   ]
  },
  {
   "cell_type": "markdown",
   "id": "7b1073ca-cfe2-40f6-9e48-a2202957648c",
   "metadata": {},
   "source": [
    "# Application Code"
   ]
  },
  {
   "cell_type": "markdown",
   "id": "1d9c7b07-558d-41b8-9178-81ec67a0942b",
   "metadata": {},
   "source": [
    "## Cluster Application Code"
   ]
  },
  {
   "cell_type": "code",
   "execution_count": 1,
   "id": "28408395-d287-4af1-90ed-73effe461b00",
   "metadata": {},
   "outputs": [],
   "source": [
    "import streamlit as st\n",
    "import pandas as pd\n",
    "import matplotlib.pyplot as plt\n",
    "import seaborn as sns\n",
    "\n",
    "from sklearn.preprocessing import StandardScaler\n",
    "from sklearn.cluster import KMeans"
   ]
  },
  {
   "cell_type": "code",
   "execution_count": 2,
   "id": "dbc857b2-8a5b-4864-951d-15445bb52659",
   "metadata": {},
   "outputs": [],
   "source": [
    "# streamlit page config\n",
    "st.set_page_config(\n",
    "    page_title='College Recommender System',\n",
    "    page_icon='🎓',\n",
    "    layout='wide',\n",
    ")"
   ]
  },
  {
   "cell_type": "code",
   "execution_count": 3,
   "id": "6b518b80-9c8f-448c-85cd-5271da6fb75b",
   "metadata": {},
   "outputs": [],
   "source": [
    "# read in data\n",
    "data = pd.read_csv('data/data_cleaned.csv')"
   ]
  },
  {
   "cell_type": "code",
   "execution_count": 4,
   "id": "d03debf6-997e-4591-904b-9ad67d500763",
   "metadata": {},
   "outputs": [],
   "source": [
    "# map \"PCIP\" columns to descriptions\n",
    "pcip_mapping = {\n",
    "    'PCIP01': 'Agriculture, Agriculture Operations, And Related Sciences',\n",
    "    'PCIP03': 'Natural Resources And Conservation',\n",
    "    'PCIP04': 'Architecture And Related Services',\n",
    "    'PCIP05': 'Area, Ethnic, Cultural, Gender, And Group Studies',\n",
    "    'PCIP09': 'Communication, Journalism, And Related Programs',\n",
    "    'PCIP10': 'Communications Technologies/Technicians And Support Services',\n",
    "    'PCIP11': 'Computer And Information Sciences And Support Services',\n",
    "    'PCIP12': 'Personal And Culinary Services',\n",
    "    'PCIP13': 'Education',\n",
    "    'PCIP14': 'Engineering',\n",
    "    'PCIP15': 'Engineering Technologies And Engineering-Related Fields',\n",
    "    'PCIP16': 'Foreign Languages, Literatures, And Linguistics',\n",
    "    'PCIP19': 'Family And Consumer Sciences/Human Sciences',\n",
    "    'PCIP22': 'Legal Professions And Studies',\n",
    "    'PCIP23': 'English Language And Literature/Letters',\n",
    "    'PCIP24': 'Liberal Arts And Sciences, General Studies And Humanities',\n",
    "    'PCIP25': 'Library Science',\n",
    "    'PCIP26': 'Biological And Biomedical Sciences',\n",
    "    'PCIP27': 'Mathematics And Statistics',\n",
    "    'PCIP29': 'Military Technologies And Applied Sciences',\n",
    "    'PCIP30': 'Multi/Interdisciplinary Studies',\n",
    "    'PCIP31': 'Parks, Recreation, Leisure, Fitness, And Kinesiology',\n",
    "    'PCIP38': 'Philosophy And Religious Studies',\n",
    "    'PCIP39': 'Theology And Religious Vocations',\n",
    "    'PCIP40': 'Physical Sciences',\n",
    "    'PCIP41': 'Science Technologies/Technicians',\n",
    "    'PCIP42': 'Psychology',\n",
    "    'PCIP43': 'Homeland Security, Law Enforcement, Firefighting, And Related Protective Services',\n",
    "    'PCIP44': 'Public Administration And Social Service Professions',\n",
    "    'PCIP45': 'Social Sciences',\n",
    "    'PCIP46': 'Construction Trades',\n",
    "    'PCIP47': 'Mechanic And Repair Technologies/Technicians',\n",
    "    'PCIP48': 'Precision Production',\n",
    "    'PCIP49': 'Transportation And Materials Moving',\n",
    "    'PCIP50': 'Visual And Performing Arts',\n",
    "    'PCIP51': 'Health Professions And Related Programs',\n",
    "    'PCIP52': 'Business, Management, Marketing, And Related Support Services',\n",
    "    'PCIP54': 'History'\n",
    "}\n",
    "\n",
    "reverse_pcip_mapping = {v: k for k, v in pcip_mapping.items()}"
   ]
  },
  {
   "cell_type": "code",
   "execution_count": 5,
   "id": "0ca9d470-75ee-4d6c-bc8b-4b674eb78cbb",
   "metadata": {},
   "outputs": [],
   "source": [
    "# map \"PREDDEG\" column to descriptions\n",
    "preddeg_mapping = {\n",
    "    1: 'Predominantly Certificate Granting Institution',\n",
    "    2: 'Predominantly Associate\\'s Degree Granting Institution',\n",
    "    3: 'Predominantly Bachelor\\'s Degree Granting Institution',\n",
    "    4: 'Entirely Graduate Degree Granting Institution'\n",
    "}\n",
    "\n",
    "reverse_preddeg_mapping = {v: k for k, v in preddeg_mapping.items()}"
   ]
  },
  {
   "cell_type": "code",
   "execution_count": 6,
   "id": "2b162a59-591f-4220-b232-4a35d3c9ebc8",
   "metadata": {},
   "outputs": [],
   "source": [
    "# map \"STABBR\" column to full name\n",
    "state_mapping = {\n",
    "    'AL': 'Alabama',\n",
    "    'AK': 'Alaska',\n",
    "    'AZ': 'Arizona',\n",
    "    'AR': 'Arkansas',\n",
    "    'CA': 'California',\n",
    "    'CO': 'Colorado',\n",
    "    'CT': 'Connecticut',\n",
    "    'DE': 'Delaware',\n",
    "    'FL': 'Florida',\n",
    "    'GA': 'Georgia',\n",
    "    'HI': 'Hawaii',\n",
    "    'ID': 'Idaho',\n",
    "    'IL': 'Illinois',\n",
    "    'IN': 'Indiana',\n",
    "    'IA': 'Iowa',\n",
    "    'KS': 'Kansas',\n",
    "    'KY': 'Kentucky',\n",
    "    'LA': 'Louisiana',\n",
    "    'ME': 'Maine',\n",
    "    'MD': 'Maryland',\n",
    "    'MA': 'Massachusetts',\n",
    "    'MI': 'Michigan',\n",
    "    'MN': 'Minnesota',\n",
    "    'MS': 'Mississippi',\n",
    "    'MO': 'Missouri',\n",
    "    'MT': 'Montana',\n",
    "    'NE': 'Nebraska',\n",
    "    'NV': 'Nevada',\n",
    "    'NH': 'New Hampshire',\n",
    "    'NJ': 'New Jersey',\n",
    "    'NM': 'New Mexico',\n",
    "    'NY': 'New York',\n",
    "    'NC': 'North Carolina',\n",
    "    'ND': 'North Dakota',\n",
    "    'OH': 'Ohio',\n",
    "    'OK': 'Oklahoma',\n",
    "    'OR': 'Oregon',\n",
    "    'PA': 'Pennsylvania',\n",
    "    'RI': 'Rhode Island',\n",
    "    'SC': 'South Carolina',\n",
    "    'SD': 'South Dakota',\n",
    "    'TN': 'Tennessee',\n",
    "    'TX': 'Texas',\n",
    "    'UT': 'Utah',\n",
    "    'VT': 'Vermont',\n",
    "    'VA': 'Virginia',\n",
    "    'WA': 'Washington',\n",
    "    'WV': 'West Virginia',\n",
    "    'WI': 'Wisconsin',\n",
    "    'WY': 'Wyoming',\n",
    "    'AS': 'American Samoa',\n",
    "    'GU': 'Guam',\n",
    "    'MP': 'Northern Mariana Islands',\n",
    "    'PR': 'Puerto Rico',\n",
    "    'FM': 'Federated States of Micronesia',\n",
    "    'PW': 'Palau',\n",
    "    'VI': 'Virgin Islands (U.S.)',\n",
    "    'MH': 'Marshall Islands'\n",
    "}\n",
    "\n",
    "reverse_state_mapping = {v: k for k, v in state_mapping.items()}"
   ]
  },
  {
   "cell_type": "code",
   "execution_count": 7,
   "id": "a982a588-0d79-4f26-80df-e89753bff51b",
   "metadata": {},
   "outputs": [],
   "source": [
    "# apply KMeans clustering\n",
    "pcip_columns = list(pcip_mapping.keys())\n",
    "scaler = StandardScaler()\n",
    "scaled_features = scaler.fit_transform(data[pcip_columns])\n",
    "kmeans = KMeans(n_clusters=50, random_state=10)\n",
    "kmeans.fit(scaled_features)\n",
    "cluster_centers = kmeans.cluster_centers_\n",
    "cluster_labels = kmeans.labels_\n",
    "data['Cluster'] = cluster_labels"
   ]
  },
  {
   "cell_type": "code",
   "execution_count": 8,
   "id": "60edd0cf-7a92-4e45-9593-f890b524dc1a",
   "metadata": {},
   "outputs": [
    {
     "name": "stderr",
     "output_type": "stream",
     "text": [
      "2024-05-21 14:21:18.977 \n",
      "  \u001b[33m\u001b[1mWarning:\u001b[0m to view this Streamlit app on a browser, run it with the following\n",
      "  command:\n",
      "\n",
      "    streamlit run /opt/anaconda3/lib/python3.11/site-packages/ipykernel_launcher.py [ARGUMENTS]\n"
     ]
    },
    {
     "data": {
      "text/plain": [
       "DeltaGenerator()"
      ]
     },
     "execution_count": 8,
     "metadata": {},
     "output_type": "execute_result"
    }
   ],
   "source": [
    "# streamlit title\n",
    "st.title(\"🎓 Welcome to the College Recommender System 🎓\")"
   ]
  },
  {
   "cell_type": "code",
   "execution_count": 9,
   "id": "96c69599-397d-47fe-9784-52363fc95fc2",
   "metadata": {},
   "outputs": [],
   "source": [
    "# user inputs\n",
    "pcip_options = ['Please Select a Field of Study'] + list(pcip_mapping.values())\n",
    "descriptive_pcip_column = st.selectbox(\"Field of Study\", pcip_options)\n",
    "\n",
    "state_options = ['Not Selected'] + list(state_mapping.values())\n",
    "selected_state = st.selectbox(\"State or U.S. Territory\", state_options)\n",
    "\n",
    "preddeg_options = ['Not Selected'] + list(preddeg_mapping.values())\n",
    "selected_preddeg = st.selectbox(\"Predominant Degree/Certificate Type Offered\", preddeg_options)"
   ]
  },
  {
   "cell_type": "code",
   "execution_count": 10,
   "id": "96f4ffa5-2393-48ab-9f43-9d888adffe87",
   "metadata": {},
   "outputs": [],
   "source": [
    "# function to obtain data from user inputs\n",
    "def get_colleges_in_kmeans_cluster(data, pcip_column, state=None, preddeg=None):\n",
    "    if pcip_column not in pcip_columns:\n",
    "        return f\"Column {pcip_column} not found in PCIP columns\"\n",
    "        \n",
    "    if state and state != 'Not Selected':\n",
    "        data = data[data['STABBR'] == state]\n",
    "\n",
    "    if preddeg and preddeg != 'Not Selected':\n",
    "        data = data[data['PREDDEG'] == preddeg]\n",
    "\n",
    "    cluster_means = data.groupby('Cluster')[pcip_column].mean()\n",
    "    target_cluster = cluster_means.idxmax()\n",
    "    \n",
    "    filtered_data = data[data['Cluster'] == target_cluster]\n",
    "\n",
    "    selected_columns = ['INSTNM', 'ADDR', 'CITY', 'STABBR', 'INSTURL', 'ADM_RATE', pcip_column]\n",
    "    filtered_data = filtered_data[selected_columns].sort_values(by=pcip_column, ascending=False)\n",
    "    \n",
    "    filtered_data = filtered_data.rename(columns={pcip_column: 'PCIP Percentage'})\n",
    "    filtered_data['PCIP Percentage'] = filtered_data['PCIP Percentage'] * 100\n",
    "\n",
    "    return filtered_data"
   ]
  },
  {
   "cell_type": "code",
   "execution_count": 11,
   "id": "46428d60-921c-4835-bf46-e0b4bc525a21",
   "metadata": {},
   "outputs": [],
   "source": [
    "# display mapped descriptions/names\n",
    "selected_pcip_column = reverse_pcip_mapping.get(descriptive_pcip_column)\n",
    "\n",
    "selected_preddeg_value = reverse_preddeg_mapping.get(selected_preddeg)\n",
    "\n",
    "selected_state_abbr = reverse_state_mapping.get(selected_state)"
   ]
  },
  {
   "cell_type": "code",
   "execution_count": 12,
   "id": "cec69158-a4cc-4f78-b23b-3416896eb408",
   "metadata": {},
   "outputs": [],
   "source": [
    "# display recommendations\n",
    "if selected_pcip_column:\n",
    "    colleges_in_cluster = get_colleges_in_kmeans_cluster(data, selected_pcip_column, selected_state_abbr, selected_preddeg_value)\n",
    "    colleges_in_cluster.columns = ['Institution Name', 'Address', 'City', 'State', 'Website', 'Admission Rate', 'Percentage of Degrees/Certificates Awarded In Selected Field of Study']\n",
    "    st.write(f\"Colleges with highest percentages in {descriptive_pcip_column}\")\n",
    "    st.write(colleges_in_cluster)"
   ]
  },
  {
   "cell_type": "markdown",
   "id": "810c731d-b632-44cd-8db8-b77a680e4da4",
   "metadata": {},
   "source": [
    "## Value Sorting Application Code"
   ]
  },
  {
   "cell_type": "code",
   "execution_count": 13,
   "id": "a45e24b0-add1-474f-b452-3e4a96723c4a",
   "metadata": {},
   "outputs": [],
   "source": [
    "import streamlit as st\n",
    "import pandas as pd"
   ]
  },
  {
   "cell_type": "code",
   "execution_count": 14,
   "id": "062841d9-4a36-4974-94fd-b025b9f64a31",
   "metadata": {},
   "outputs": [],
   "source": [
    "# streamlit page config\n",
    "st.set_page_config(\n",
    "    page_title='College Recommender System',\n",
    "    page_icon='🎓',\n",
    "    layout='wide',\n",
    ")"
   ]
  },
  {
   "cell_type": "code",
   "execution_count": 15,
   "id": "7b5a5fe0-8683-4cdc-b311-cbb62ad2cd81",
   "metadata": {},
   "outputs": [],
   "source": [
    "# read in data\n",
    "data = pd.read_csv('data/data_cleaned.csv')"
   ]
  },
  {
   "cell_type": "code",
   "execution_count": 16,
   "id": "da332bfd-94b6-4574-a9d2-b868182a2140",
   "metadata": {},
   "outputs": [],
   "source": [
    "# map \"PCIP\" columns to descriptions\n",
    "pcip_mapping = {\n",
    "    'PCIP01': 'Agriculture, Agriculture Operations, And Related Sciences',\n",
    "    'PCIP03': 'Natural Resources And Conservation',\n",
    "    'PCIP04': 'Architecture And Related Services',\n",
    "    'PCIP05': 'Area, Ethnic, Cultural, Gender, And Group Studies',\n",
    "    'PCIP09': 'Communication, Journalism, And Related Programs',\n",
    "    'PCIP10': 'Communications Technologies/Technicians And Support Services',\n",
    "    'PCIP11': 'Computer And Information Sciences And Support Services',\n",
    "    'PCIP12': 'Personal And Culinary Services',\n",
    "    'PCIP13': 'Education',\n",
    "    'PCIP14': 'Engineering',\n",
    "    'PCIP15': 'Engineering Technologies And Engineering-Related Fields',\n",
    "    'PCIP16': 'Foreign Languages, Literatures, And Linguistics',\n",
    "    'PCIP19': 'Family And Consumer Sciences/Human Sciences',\n",
    "    'PCIP22': 'Legal Professions And Studies',\n",
    "    'PCIP23': 'English Language And Literature/Letters',\n",
    "    'PCIP24': 'Liberal Arts And Sciences, General Studies And Humanities',\n",
    "    'PCIP25': 'Library Science',\n",
    "    'PCIP26': 'Biological And Biomedical Sciences',\n",
    "    'PCIP27': 'Mathematics And Statistics',\n",
    "    'PCIP29': 'Military Technologies And Applied Sciences',\n",
    "    'PCIP30': 'Multi/Interdisciplinary Studies',\n",
    "    'PCIP31': 'Parks, Recreation, Leisure, Fitness, And Kinesiology',\n",
    "    'PCIP38': 'Philosophy And Religious Studies',\n",
    "    'PCIP39': 'Theology And Religious Vocations',\n",
    "    'PCIP40': 'Physical Sciences',\n",
    "    'PCIP41': 'Science Technologies/Technicians',\n",
    "    'PCIP42': 'Psychology',\n",
    "    'PCIP43': 'Homeland Security, Law Enforcement, Firefighting, And Related Protective Services',\n",
    "    'PCIP44': 'Public Administration And Social Service Professions',\n",
    "    'PCIP45': 'Social Sciences',\n",
    "    'PCIP46': 'Construction Trades',\n",
    "    'PCIP47': 'Mechanic And Repair Technologies/Technicians',\n",
    "    'PCIP48': 'Precision Production',\n",
    "    'PCIP49': 'Transportation And Materials Moving',\n",
    "    'PCIP50': 'Visual And Performing Arts',\n",
    "    'PCIP51': 'Health Professions And Related Programs',\n",
    "    'PCIP52': 'Business, Management, Marketing, And Related Support Services',\n",
    "    'PCIP54': 'History'\n",
    "}\n",
    "\n",
    "reverse_pcip_mapping = {v: k for k, v in pcip_mapping.items()}"
   ]
  },
  {
   "cell_type": "code",
   "execution_count": 17,
   "id": "bb359e87-df90-4593-be07-64a276608594",
   "metadata": {},
   "outputs": [],
   "source": [
    "# map \"PREDDEG\" column to descriptions\n",
    "preddeg_mapping = {\n",
    "    1: 'Predominantly Certificate Granting Institution',\n",
    "    2: 'Predominantly Associate\\'s Degree Granting Institution',\n",
    "    3: 'Predominantly Bachelor\\'s Degree Granting Institution',\n",
    "    4: 'Entirely Graduate Degree Granting Institution'\n",
    "}\n",
    "\n",
    "reverse_preddeg_mapping = {v: k for k, v in preddeg_mapping.items()}"
   ]
  },
  {
   "cell_type": "code",
   "execution_count": 18,
   "id": "d6b16ac9-8c68-4c8b-9eba-49292ee28b44",
   "metadata": {},
   "outputs": [],
   "source": [
    "# map \"STABBR\" column to full name\n",
    "state_mapping = {\n",
    "    'AL': 'Alabama',\n",
    "    'AK': 'Alaska',\n",
    "    'AZ': 'Arizona',\n",
    "    'AR': 'Arkansas',\n",
    "    'CA': 'California',\n",
    "    'CO': 'Colorado',\n",
    "    'CT': 'Connecticut',\n",
    "    'DE': 'Delaware',\n",
    "    'FL': 'Florida',\n",
    "    'GA': 'Georgia',\n",
    "    'HI': 'Hawaii',\n",
    "    'ID': 'Idaho',\n",
    "    'IL': 'Illinois',\n",
    "    'IN': 'Indiana',\n",
    "    'IA': 'Iowa',\n",
    "    'KS': 'Kansas',\n",
    "    'KY': 'Kentucky',\n",
    "    'LA': 'Louisiana',\n",
    "    'ME': 'Maine',\n",
    "    'MD': 'Maryland',\n",
    "    'MA': 'Massachusetts',\n",
    "    'MI': 'Michigan',\n",
    "    'MN': 'Minnesota',\n",
    "    'MS': 'Mississippi',\n",
    "    'MO': 'Missouri',\n",
    "    'MT': 'Montana',\n",
    "    'NE': 'Nebraska',\n",
    "    'NV': 'Nevada',\n",
    "    'NH': 'New Hampshire',\n",
    "    'NJ': 'New Jersey',\n",
    "    'NM': 'New Mexico',\n",
    "    'NY': 'New York',\n",
    "    'NC': 'North Carolina',\n",
    "    'ND': 'North Dakota',\n",
    "    'OH': 'Ohio',\n",
    "    'OK': 'Oklahoma',\n",
    "    'OR': 'Oregon',\n",
    "    'PA': 'Pennsylvania',\n",
    "    'RI': 'Rhode Island',\n",
    "    'SC': 'South Carolina',\n",
    "    'SD': 'South Dakota',\n",
    "    'TN': 'Tennessee',\n",
    "    'TX': 'Texas',\n",
    "    'UT': 'Utah',\n",
    "    'VT': 'Vermont',\n",
    "    'VA': 'Virginia',\n",
    "    'WA': 'Washington',\n",
    "    'WV': 'West Virginia',\n",
    "    'WI': 'Wisconsin',\n",
    "    'WY': 'Wyoming',\n",
    "    'AS': 'American Samoa',\n",
    "    'GU': 'Guam',\n",
    "    'MP': 'Northern Mariana Islands',\n",
    "    'PR': 'Puerto Rico',\n",
    "    'FM': 'Federated States of Micronesia',\n",
    "    'PW': 'Palau',\n",
    "    'VI': 'Virgin Islands (U.S.)',\n",
    "    'MH': 'Marshall Islands'\n",
    "}\n",
    "\n",
    "reverse_state_mapping = {v: k for k, v in state_mapping.items()}"
   ]
  },
  {
   "cell_type": "code",
   "execution_count": 19,
   "id": "89549ff0-f027-4f39-86db-b88fc890db32",
   "metadata": {},
   "outputs": [
    {
     "data": {
      "text/plain": [
       "DeltaGenerator()"
      ]
     },
     "execution_count": 19,
     "metadata": {},
     "output_type": "execute_result"
    }
   ],
   "source": [
    "# streamlit title\n",
    "st.title(\"🎓 Welcome to the College Recommender System 🎓\")"
   ]
  },
  {
   "cell_type": "code",
   "execution_count": 20,
   "id": "372db9a7-e814-451d-b0f3-ae1aac18e34e",
   "metadata": {},
   "outputs": [],
   "source": [
    "# user inputs\n",
    "pcip_options = ['Please Select a Field of Study'] + list(pcip_mapping.values())\n",
    "descriptive_pcip_column = st.selectbox(\"Field of Study\", pcip_options)\n",
    "\n",
    "state_options = ['Not Selected'] + list(state_mapping.values())\n",
    "selected_state = st.selectbox(\"State or U.S. Territory\", state_options)\n",
    "\n",
    "preddeg_options = ['Not Selected'] + list(preddeg_mapping.values())\n",
    "selected_preddeg = st.selectbox(\"Predominant Degree/Certificate Type Offered\", preddeg_options)"
   ]
  },
  {
   "cell_type": "code",
   "execution_count": 21,
   "id": "afdbe02f-9eb9-41ae-b927-b2f56b2bc047",
   "metadata": {},
   "outputs": [],
   "source": [
    "# function to obtain data from user inputs\n",
    "def get_colleges_sorted_by_pcip(data, pcip_column, state=None, preddeg=None):\n",
    "    if pcip_column not in data.columns:\n",
    "        return f\"Column {pcip_column} not found in data columns\"\n",
    "\n",
    "    if state and state != 'Not Selected':\n",
    "        data = data[data['STABBR'] == state]\n",
    "\n",
    "    if preddeg and preddeg != 'Not Selected':\n",
    "        data = data[data['PREDDEG'] == preddeg]\n",
    "\n",
    "    selected_columns = ['INSTNM', 'ADDR', 'CITY', 'STABBR', 'INSTURL', 'ADM_RATE', pcip_column]\n",
    "    \n",
    "    sorted_data = data[selected_columns].sort_values(by=pcip_column, ascending=False)\n",
    "\n",
    "    sorted_data.rename(columns={pcip_column: 'PCIP Percentage'}, inplace=True)\n",
    "    \n",
    "    sorted_data['PCIP Percentage'] = sorted_data['PCIP Percentage'] * 100\n",
    "    \n",
    "    return sorted_data"
   ]
  },
  {
   "cell_type": "code",
   "execution_count": 22,
   "id": "4c5b80b2-7511-49f9-a474-ff7f961ac9a9",
   "metadata": {},
   "outputs": [],
   "source": [
    "# display mapped descriptions/names\n",
    "selected_pcip_column = reverse_pcip_mapping.get(descriptive_pcip_column)\n",
    "\n",
    "selected_preddeg_value = reverse_preddeg_mapping.get(selected_preddeg)\n",
    "\n",
    "selected_state_abbr = reverse_state_mapping.get(selected_state)"
   ]
  },
  {
   "cell_type": "code",
   "execution_count": 23,
   "id": "74a6786b-763d-4adf-a976-780233a7f5ce",
   "metadata": {},
   "outputs": [],
   "source": [
    "# display recommendations\n",
    "if selected_pcip_column:\n",
    "    colleges_sorted = get_colleges_sorted_by_pcip(data, selected_pcip_column, selected_state_abbr, selected_preddeg_value)\n",
    "    colleges_sorted.columns = ['Institution Name', 'Address', 'City', 'State', 'Website', 'Admission Rate', 'Percentage of Degrees/Certificates Awarded In Selected Field of Study']\n",
    "    st.write(f\"Colleges with highest percentages in {descriptive_pcip_column}\")\n",
    "    st.write(colleges_sorted)"
   ]
  },
  {
   "cell_type": "code",
   "execution_count": null,
   "id": "69b865fc-c8bb-45e1-83b8-6ac029a15b65",
   "metadata": {},
   "outputs": [],
   "source": []
  }
 ],
 "metadata": {
  "kernelspec": {
   "display_name": "Python 3 (ipykernel)",
   "language": "python",
   "name": "python3"
  },
  "language_info": {
   "codemirror_mode": {
    "name": "ipython",
    "version": 3
   },
   "file_extension": ".py",
   "mimetype": "text/x-python",
   "name": "python",
   "nbconvert_exporter": "python",
   "pygments_lexer": "ipython3",
   "version": "3.11.9"
  }
 },
 "nbformat": 4,
 "nbformat_minor": 5
}
